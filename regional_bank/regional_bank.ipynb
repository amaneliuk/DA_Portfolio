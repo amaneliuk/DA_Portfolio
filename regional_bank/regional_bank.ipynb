{
 "cells": [
  {
   "cell_type": "markdown",
   "metadata": {},
   "source": [
    "# Проект для Яндекс.Практикума\n",
    "## Банки — Анализ оттока клиентов"
   ]
  },
  {
   "cell_type": "markdown",
   "metadata": {},
   "source": [
    "## Материалы\n",
    "* Презентация https://yadi.sk/i/eHWrq2W4OIRwdQ"
   ]
  },
  {
   "cell_type": "markdown",
   "metadata": {},
   "source": [
    "## Задача\n",
    "\n",
    "Проанализировать клиентов регионального банка и выделить портрет клиентов, которые склонны уходить из банка.\n",
    "\n",
    "- Провести исследовательский анализ данных\n",
    "- Выделить портреты клиентов, которые склонны уходить из банка\n",
    "- Сформулировать и проверить статистические гипотезы:\n",
    "    - Проверьте гипотезу различия дохода между теми клиентами, которые ушли и теми, которые остались\n",
    "    - Сформулируйте и проверьте статистическую гипотезу относительно представленных данных"
   ]
  },
  {
   "cell_type": "markdown",
   "metadata": {},
   "source": [
    "## План исследования\n",
    "\n",
    "1. Загрузка данных\n",
    "\n",
    "\n",
    "2. Предобработка данных\n",
    "    - изменения названия колонок\n",
    "    - приведение типов данных к нужному типу\n",
    "    - проверка на дубликаты\n",
    "    - проверка на пропуски в данных и замена/удаление пустых значений\n",
    "\n",
    "\n",
    "3. Исследовательский анализ данных, \n",
    "    - посчитать:\n",
    "        - количество клиентов в разных городах\n",
    "        - соотношение мужчин и женщин среди клиентов\n",
    "    - провести категоризацию:\n",
    "        - по возрасту\n",
    "        - по доходу (зарплате)\n",
    "        - по балансу на счете\n",
    "        - по количеству продуктов, которыми пользуется\n",
    "        - по количеству объектов в собственности\n",
    "\n",
    "\n",
    "4. Формулирование и проверка гипотез\n",
    "    - у тех кто ушел, баланс счета ниже чем у тех кто остался\n",
    "    - те кто ушел, пользуются меньшим количеством продуктов, чем те кто остался\n",
    "    - у тех кто ушел не было кредитной карты\n",
    "    - те кто остались являются активными клиентами\n",
    "    \n",
    "\n",
    "5. Метрики и бизнес-показатели\n",
    "    - суммарный баланс на счетах всех клиентов\n",
    "    - процент ушедших клиентов\n",
    "    - процент активных клиентов\n",
    "    - процент клиентов с кредитной картой\n",
    "\n",
    "\n",
    "6. Выводы\n",
    "    - портрет лояльного клиента\n",
    "    - портрет клиента с риском оттока\n",
    "    \n",
    "\n",
    "7. Рекомендации по удержанию клиентов"
   ]
  },
  {
   "cell_type": "code",
   "execution_count": 1,
   "metadata": {},
   "outputs": [],
   "source": [
    "# Импорт библиотек\n",
    "import pandas as pd\n",
    "import numpy as np\n",
    "import matplotlib.pyplot as plt\n",
    "import scipy.stats as stats\n",
    "import cmath as cmth\n",
    "\n",
    "import warnings\n",
    "warnings.filterwarnings(\"ignore\")"
   ]
  },
  {
   "cell_type": "markdown",
   "metadata": {},
   "source": [
    "## 1. Загрузка данных"
   ]
  },
  {
   "cell_type": "code",
   "execution_count": 2,
   "metadata": {},
   "outputs": [
    {
     "data": {
      "text/html": [
       "<div>\n",
       "<style scoped>\n",
       "    .dataframe tbody tr th:only-of-type {\n",
       "        vertical-align: middle;\n",
       "    }\n",
       "\n",
       "    .dataframe tbody tr th {\n",
       "        vertical-align: top;\n",
       "    }\n",
       "\n",
       "    .dataframe thead th {\n",
       "        text-align: right;\n",
       "    }\n",
       "</style>\n",
       "<table border=\"1\" class=\"dataframe\">\n",
       "  <thead>\n",
       "    <tr style=\"text-align: right;\">\n",
       "      <th></th>\n",
       "      <th>userid</th>\n",
       "      <th>score</th>\n",
       "      <th>City</th>\n",
       "      <th>Gender</th>\n",
       "      <th>Age</th>\n",
       "      <th>Objects</th>\n",
       "      <th>Balance</th>\n",
       "      <th>Products</th>\n",
       "      <th>CreditCard</th>\n",
       "      <th>Loyalty</th>\n",
       "      <th>estimated_salary</th>\n",
       "      <th>Churn</th>\n",
       "    </tr>\n",
       "  </thead>\n",
       "  <tbody>\n",
       "    <tr>\n",
       "      <th>0</th>\n",
       "      <td>15677338</td>\n",
       "      <td>619</td>\n",
       "      <td>Ярославль</td>\n",
       "      <td>Ж</td>\n",
       "      <td>42</td>\n",
       "      <td>2</td>\n",
       "      <td>NaN</td>\n",
       "      <td>1</td>\n",
       "      <td>1</td>\n",
       "      <td>1</td>\n",
       "      <td>101348.88</td>\n",
       "      <td>1</td>\n",
       "    </tr>\n",
       "    <tr>\n",
       "      <th>1</th>\n",
       "      <td>15690047</td>\n",
       "      <td>608</td>\n",
       "      <td>Рыбинск</td>\n",
       "      <td>Ж</td>\n",
       "      <td>41</td>\n",
       "      <td>1</td>\n",
       "      <td>83807.86</td>\n",
       "      <td>1</td>\n",
       "      <td>0</td>\n",
       "      <td>1</td>\n",
       "      <td>112542.58</td>\n",
       "      <td>0</td>\n",
       "    </tr>\n",
       "    <tr>\n",
       "      <th>2</th>\n",
       "      <td>15662040</td>\n",
       "      <td>502</td>\n",
       "      <td>Ярославль</td>\n",
       "      <td>Ж</td>\n",
       "      <td>42</td>\n",
       "      <td>8</td>\n",
       "      <td>159660.80</td>\n",
       "      <td>3</td>\n",
       "      <td>1</td>\n",
       "      <td>0</td>\n",
       "      <td>113931.57</td>\n",
       "      <td>1</td>\n",
       "    </tr>\n",
       "    <tr>\n",
       "      <th>3</th>\n",
       "      <td>15744090</td>\n",
       "      <td>699</td>\n",
       "      <td>Ярославль</td>\n",
       "      <td>Ж</td>\n",
       "      <td>39</td>\n",
       "      <td>1</td>\n",
       "      <td>NaN</td>\n",
       "      <td>2</td>\n",
       "      <td>0</td>\n",
       "      <td>0</td>\n",
       "      <td>93826.63</td>\n",
       "      <td>0</td>\n",
       "    </tr>\n",
       "    <tr>\n",
       "      <th>4</th>\n",
       "      <td>15780624</td>\n",
       "      <td>850</td>\n",
       "      <td>Рыбинск</td>\n",
       "      <td>Ж</td>\n",
       "      <td>43</td>\n",
       "      <td>2</td>\n",
       "      <td>125510.82</td>\n",
       "      <td>1</td>\n",
       "      <td>1</td>\n",
       "      <td>1</td>\n",
       "      <td>79084.10</td>\n",
       "      <td>0</td>\n",
       "    </tr>\n",
       "    <tr>\n",
       "      <th>...</th>\n",
       "      <td>...</td>\n",
       "      <td>...</td>\n",
       "      <td>...</td>\n",
       "      <td>...</td>\n",
       "      <td>...</td>\n",
       "      <td>...</td>\n",
       "      <td>...</td>\n",
       "      <td>...</td>\n",
       "      <td>...</td>\n",
       "      <td>...</td>\n",
       "      <td>...</td>\n",
       "      <td>...</td>\n",
       "    </tr>\n",
       "    <tr>\n",
       "      <th>9995</th>\n",
       "      <td>15648965</td>\n",
       "      <td>771</td>\n",
       "      <td>Ярославль</td>\n",
       "      <td>М</td>\n",
       "      <td>39</td>\n",
       "      <td>5</td>\n",
       "      <td>NaN</td>\n",
       "      <td>2</td>\n",
       "      <td>1</td>\n",
       "      <td>0</td>\n",
       "      <td>96270.64</td>\n",
       "      <td>0</td>\n",
       "    </tr>\n",
       "    <tr>\n",
       "      <th>9996</th>\n",
       "      <td>15612628</td>\n",
       "      <td>516</td>\n",
       "      <td>Ярославль</td>\n",
       "      <td>М</td>\n",
       "      <td>35</td>\n",
       "      <td>10</td>\n",
       "      <td>57369.61</td>\n",
       "      <td>1</td>\n",
       "      <td>1</td>\n",
       "      <td>1</td>\n",
       "      <td>101699.77</td>\n",
       "      <td>0</td>\n",
       "    </tr>\n",
       "    <tr>\n",
       "      <th>9997</th>\n",
       "      <td>15627268</td>\n",
       "      <td>709</td>\n",
       "      <td>Ярославль</td>\n",
       "      <td>Ж</td>\n",
       "      <td>36</td>\n",
       "      <td>7</td>\n",
       "      <td>NaN</td>\n",
       "      <td>1</td>\n",
       "      <td>0</td>\n",
       "      <td>1</td>\n",
       "      <td>42085.58</td>\n",
       "      <td>1</td>\n",
       "    </tr>\n",
       "    <tr>\n",
       "      <th>9998</th>\n",
       "      <td>15725091</td>\n",
       "      <td>772</td>\n",
       "      <td>Ростов Великий</td>\n",
       "      <td>М</td>\n",
       "      <td>42</td>\n",
       "      <td>3</td>\n",
       "      <td>75075.31</td>\n",
       "      <td>2</td>\n",
       "      <td>1</td>\n",
       "      <td>0</td>\n",
       "      <td>92888.52</td>\n",
       "      <td>1</td>\n",
       "    </tr>\n",
       "    <tr>\n",
       "      <th>9999</th>\n",
       "      <td>15671055</td>\n",
       "      <td>792</td>\n",
       "      <td>Ярославль</td>\n",
       "      <td>Ж</td>\n",
       "      <td>28</td>\n",
       "      <td>4</td>\n",
       "      <td>130142.79</td>\n",
       "      <td>1</td>\n",
       "      <td>1</td>\n",
       "      <td>0</td>\n",
       "      <td>38190.78</td>\n",
       "      <td>0</td>\n",
       "    </tr>\n",
       "  </tbody>\n",
       "</table>\n",
       "<p>10000 rows × 12 columns</p>\n",
       "</div>"
      ],
      "text/plain": [
       "        userid  score            City Gender  Age  Objects    Balance  \\\n",
       "0     15677338    619       Ярославль      Ж   42        2        NaN   \n",
       "1     15690047    608         Рыбинск      Ж   41        1   83807.86   \n",
       "2     15662040    502       Ярославль      Ж   42        8  159660.80   \n",
       "3     15744090    699       Ярославль      Ж   39        1        NaN   \n",
       "4     15780624    850         Рыбинск      Ж   43        2  125510.82   \n",
       "...        ...    ...             ...    ...  ...      ...        ...   \n",
       "9995  15648965    771       Ярославль      М   39        5        NaN   \n",
       "9996  15612628    516       Ярославль      М   35       10   57369.61   \n",
       "9997  15627268    709       Ярославль      Ж   36        7        NaN   \n",
       "9998  15725091    772  Ростов Великий      М   42        3   75075.31   \n",
       "9999  15671055    792       Ярославль      Ж   28        4  130142.79   \n",
       "\n",
       "      Products  CreditCard  Loyalty  estimated_salary  Churn  \n",
       "0            1           1        1         101348.88      1  \n",
       "1            1           0        1         112542.58      0  \n",
       "2            3           1        0         113931.57      1  \n",
       "3            2           0        0          93826.63      0  \n",
       "4            1           1        1          79084.10      0  \n",
       "...        ...         ...      ...               ...    ...  \n",
       "9995         2           1        0          96270.64      0  \n",
       "9996         1           1        1         101699.77      0  \n",
       "9997         1           0        1          42085.58      1  \n",
       "9998         2           1        0          92888.52      1  \n",
       "9999         1           1        0          38190.78      0  \n",
       "\n",
       "[10000 rows x 12 columns]"
      ]
     },
     "execution_count": 2,
     "metadata": {},
     "output_type": "execute_result"
    }
   ],
   "source": [
    "users = pd.read_csv('bank_dataset.csv')\n",
    "users"
   ]
  },
  {
   "cell_type": "markdown",
   "metadata": {},
   "source": [
    "## 2. Предобработка данных"
   ]
  },
  {
   "cell_type": "code",
   "execution_count": 3,
   "metadata": {},
   "outputs": [],
   "source": [
    "# Приведем названия колонок к нижнему регистру\n",
    "users.columns = users.columns.str.lower()"
   ]
  },
  {
   "cell_type": "code",
   "execution_count": 4,
   "metadata": {},
   "outputs": [
    {
     "name": "stdout",
     "output_type": "stream",
     "text": [
      "<class 'pandas.core.frame.DataFrame'>\n",
      "RangeIndex: 10000 entries, 0 to 9999\n",
      "Data columns (total 12 columns):\n",
      " #   Column            Non-Null Count  Dtype  \n",
      "---  ------            --------------  -----  \n",
      " 0   userid            10000 non-null  int64  \n",
      " 1   score             10000 non-null  int64  \n",
      " 2   city              10000 non-null  object \n",
      " 3   gender            10000 non-null  object \n",
      " 4   age               10000 non-null  int64  \n",
      " 5   objects           10000 non-null  int64  \n",
      " 6   balance           6383 non-null   float64\n",
      " 7   products          10000 non-null  int64  \n",
      " 8   creditcard        10000 non-null  int64  \n",
      " 9   loyalty           10000 non-null  int64  \n",
      " 10  estimated_salary  10000 non-null  float64\n",
      " 11  churn             10000 non-null  int64  \n",
      "dtypes: float64(2), int64(8), object(2)\n",
      "memory usage: 937.6+ KB\n"
     ]
    }
   ],
   "source": [
    "users.info()"
   ]
  },
  {
   "cell_type": "code",
   "execution_count": 5,
   "metadata": {},
   "outputs": [],
   "source": [
    "# Приведем колонку данных пол в тип категория\n",
    "users['gender'] = users['gender'].astype('category')"
   ]
  },
  {
   "cell_type": "markdown",
   "metadata": {},
   "source": [
    "Типы данных в датасете корректны.\n",
    "В целях оптимизации памяти можно привести колонку пол в тип данных категория."
   ]
  },
  {
   "cell_type": "code",
   "execution_count": 6,
   "metadata": {},
   "outputs": [
    {
     "data": {
      "text/plain": [
       "0.0"
      ]
     },
     "execution_count": 6,
     "metadata": {},
     "output_type": "execute_result"
    }
   ],
   "source": [
    "# Проверим на дубликаты\n",
    "users.duplicated().mean()"
   ]
  },
  {
   "cell_type": "markdown",
   "metadata": {},
   "source": [
    "Дубликатов в датасете не выявлено"
   ]
  },
  {
   "cell_type": "code",
   "execution_count": 7,
   "metadata": {},
   "outputs": [
    {
     "data": {
      "text/plain": [
       "userid              0.0000\n",
       "score               0.0000\n",
       "city                0.0000\n",
       "gender              0.0000\n",
       "age                 0.0000\n",
       "objects             0.0000\n",
       "balance             0.3617\n",
       "products            0.0000\n",
       "creditcard          0.0000\n",
       "loyalty             0.0000\n",
       "estimated_salary    0.0000\n",
       "churn               0.0000\n",
       "dtype: float64"
      ]
     },
     "execution_count": 7,
     "metadata": {},
     "output_type": "execute_result"
    }
   ],
   "source": [
    "# Проверим колонки на пропущенные значения\n",
    "users.isna().mean()"
   ]
  },
  {
   "cell_type": "markdown",
   "metadata": {},
   "source": [
    "Выявлены пропущенные значения в колонке \"баланс\", их количество составляет 36% от общего."
   ]
  },
  {
   "cell_type": "code",
   "execution_count": 8,
   "metadata": {},
   "outputs": [
    {
     "data": {
      "text/html": [
       "<div>\n",
       "<style scoped>\n",
       "    .dataframe tbody tr th:only-of-type {\n",
       "        vertical-align: middle;\n",
       "    }\n",
       "\n",
       "    .dataframe tbody tr th {\n",
       "        vertical-align: top;\n",
       "    }\n",
       "\n",
       "    .dataframe thead th {\n",
       "        text-align: right;\n",
       "    }\n",
       "</style>\n",
       "<table border=\"1\" class=\"dataframe\">\n",
       "  <thead>\n",
       "    <tr style=\"text-align: right;\">\n",
       "      <th></th>\n",
       "      <th>userid</th>\n",
       "      <th>score</th>\n",
       "      <th>city</th>\n",
       "      <th>gender</th>\n",
       "      <th>age</th>\n",
       "      <th>objects</th>\n",
       "      <th>balance</th>\n",
       "      <th>products</th>\n",
       "      <th>creditcard</th>\n",
       "      <th>loyalty</th>\n",
       "      <th>estimated_salary</th>\n",
       "      <th>churn</th>\n",
       "    </tr>\n",
       "  </thead>\n",
       "  <tbody>\n",
       "    <tr>\n",
       "      <th>0</th>\n",
       "      <td>15677338</td>\n",
       "      <td>619</td>\n",
       "      <td>Ярославль</td>\n",
       "      <td>Ж</td>\n",
       "      <td>42</td>\n",
       "      <td>2</td>\n",
       "      <td>NaN</td>\n",
       "      <td>1</td>\n",
       "      <td>1</td>\n",
       "      <td>1</td>\n",
       "      <td>101348.88</td>\n",
       "      <td>1</td>\n",
       "    </tr>\n",
       "    <tr>\n",
       "      <th>3</th>\n",
       "      <td>15744090</td>\n",
       "      <td>699</td>\n",
       "      <td>Ярославль</td>\n",
       "      <td>Ж</td>\n",
       "      <td>39</td>\n",
       "      <td>1</td>\n",
       "      <td>NaN</td>\n",
       "      <td>2</td>\n",
       "      <td>0</td>\n",
       "      <td>0</td>\n",
       "      <td>93826.63</td>\n",
       "      <td>0</td>\n",
       "    </tr>\n",
       "    <tr>\n",
       "      <th>6</th>\n",
       "      <td>15635267</td>\n",
       "      <td>822</td>\n",
       "      <td>Ярославль</td>\n",
       "      <td>М</td>\n",
       "      <td>50</td>\n",
       "      <td>7</td>\n",
       "      <td>NaN</td>\n",
       "      <td>2</td>\n",
       "      <td>1</td>\n",
       "      <td>1</td>\n",
       "      <td>10062.80</td>\n",
       "      <td>0</td>\n",
       "    </tr>\n",
       "    <tr>\n",
       "      <th>11</th>\n",
       "      <td>15779909</td>\n",
       "      <td>497</td>\n",
       "      <td>Рыбинск</td>\n",
       "      <td>М</td>\n",
       "      <td>24</td>\n",
       "      <td>3</td>\n",
       "      <td>NaN</td>\n",
       "      <td>2</td>\n",
       "      <td>1</td>\n",
       "      <td>0</td>\n",
       "      <td>76390.01</td>\n",
       "      <td>0</td>\n",
       "    </tr>\n",
       "    <tr>\n",
       "      <th>12</th>\n",
       "      <td>15675000</td>\n",
       "      <td>476</td>\n",
       "      <td>Ярославль</td>\n",
       "      <td>Ж</td>\n",
       "      <td>34</td>\n",
       "      <td>10</td>\n",
       "      <td>NaN</td>\n",
       "      <td>2</td>\n",
       "      <td>1</td>\n",
       "      <td>0</td>\n",
       "      <td>26260.98</td>\n",
       "      <td>0</td>\n",
       "    </tr>\n",
       "    <tr>\n",
       "      <th>...</th>\n",
       "      <td>...</td>\n",
       "      <td>...</td>\n",
       "      <td>...</td>\n",
       "      <td>...</td>\n",
       "      <td>...</td>\n",
       "      <td>...</td>\n",
       "      <td>...</td>\n",
       "      <td>...</td>\n",
       "      <td>...</td>\n",
       "      <td>...</td>\n",
       "      <td>...</td>\n",
       "      <td>...</td>\n",
       "    </tr>\n",
       "    <tr>\n",
       "      <th>9989</th>\n",
       "      <td>15648358</td>\n",
       "      <td>841</td>\n",
       "      <td>Рыбинск</td>\n",
       "      <td>М</td>\n",
       "      <td>28</td>\n",
       "      <td>4</td>\n",
       "      <td>NaN</td>\n",
       "      <td>2</td>\n",
       "      <td>1</td>\n",
       "      <td>1</td>\n",
       "      <td>179436.60</td>\n",
       "      <td>0</td>\n",
       "    </tr>\n",
       "    <tr>\n",
       "      <th>9992</th>\n",
       "      <td>15699841</td>\n",
       "      <td>726</td>\n",
       "      <td>Рыбинск</td>\n",
       "      <td>М</td>\n",
       "      <td>36</td>\n",
       "      <td>2</td>\n",
       "      <td>NaN</td>\n",
       "      <td>1</td>\n",
       "      <td>1</td>\n",
       "      <td>0</td>\n",
       "      <td>195192.40</td>\n",
       "      <td>0</td>\n",
       "    </tr>\n",
       "    <tr>\n",
       "      <th>9994</th>\n",
       "      <td>15762030</td>\n",
       "      <td>800</td>\n",
       "      <td>Ярославль</td>\n",
       "      <td>Ж</td>\n",
       "      <td>29</td>\n",
       "      <td>2</td>\n",
       "      <td>NaN</td>\n",
       "      <td>2</td>\n",
       "      <td>0</td>\n",
       "      <td>0</td>\n",
       "      <td>167773.55</td>\n",
       "      <td>0</td>\n",
       "    </tr>\n",
       "    <tr>\n",
       "      <th>9995</th>\n",
       "      <td>15648965</td>\n",
       "      <td>771</td>\n",
       "      <td>Ярославль</td>\n",
       "      <td>М</td>\n",
       "      <td>39</td>\n",
       "      <td>5</td>\n",
       "      <td>NaN</td>\n",
       "      <td>2</td>\n",
       "      <td>1</td>\n",
       "      <td>0</td>\n",
       "      <td>96270.64</td>\n",
       "      <td>0</td>\n",
       "    </tr>\n",
       "    <tr>\n",
       "      <th>9997</th>\n",
       "      <td>15627268</td>\n",
       "      <td>709</td>\n",
       "      <td>Ярославль</td>\n",
       "      <td>Ж</td>\n",
       "      <td>36</td>\n",
       "      <td>7</td>\n",
       "      <td>NaN</td>\n",
       "      <td>1</td>\n",
       "      <td>0</td>\n",
       "      <td>1</td>\n",
       "      <td>42085.58</td>\n",
       "      <td>1</td>\n",
       "    </tr>\n",
       "  </tbody>\n",
       "</table>\n",
       "<p>3617 rows × 12 columns</p>\n",
       "</div>"
      ],
      "text/plain": [
       "        userid  score       city gender  age  objects  balance  products  \\\n",
       "0     15677338    619  Ярославль      Ж   42        2      NaN         1   \n",
       "3     15744090    699  Ярославль      Ж   39        1      NaN         2   \n",
       "6     15635267    822  Ярославль      М   50        7      NaN         2   \n",
       "11    15779909    497    Рыбинск      М   24        3      NaN         2   \n",
       "12    15675000    476  Ярославль      Ж   34       10      NaN         2   \n",
       "...        ...    ...        ...    ...  ...      ...      ...       ...   \n",
       "9989  15648358    841    Рыбинск      М   28        4      NaN         2   \n",
       "9992  15699841    726    Рыбинск      М   36        2      NaN         1   \n",
       "9994  15762030    800  Ярославль      Ж   29        2      NaN         2   \n",
       "9995  15648965    771  Ярославль      М   39        5      NaN         2   \n",
       "9997  15627268    709  Ярославль      Ж   36        7      NaN         1   \n",
       "\n",
       "      creditcard  loyalty  estimated_salary  churn  \n",
       "0              1        1         101348.88      1  \n",
       "3              0        0          93826.63      0  \n",
       "6              1        1          10062.80      0  \n",
       "11             1        0          76390.01      0  \n",
       "12             1        0          26260.98      0  \n",
       "...          ...      ...               ...    ...  \n",
       "9989           1        1         179436.60      0  \n",
       "9992           1        0         195192.40      0  \n",
       "9994           0        0         167773.55      0  \n",
       "9995           1        0          96270.64      0  \n",
       "9997           0        1          42085.58      1  \n",
       "\n",
       "[3617 rows x 12 columns]"
      ]
     },
     "execution_count": 8,
     "metadata": {},
     "output_type": "execute_result"
    }
   ],
   "source": [
    "users[users['balance'].isna()]"
   ]
  },
  {
   "cell_type": "code",
   "execution_count": 9,
   "metadata": {},
   "outputs": [
    {
     "data": {
      "text/plain": [
       "count      6383.000000\n",
       "mean     119827.493793\n",
       "std       30095.056462\n",
       "min        3768.690000\n",
       "25%      100181.975000\n",
       "50%      119839.690000\n",
       "75%      139512.290000\n",
       "max      250898.090000\n",
       "Name: balance, dtype: float64"
      ]
     },
     "execution_count": 9,
     "metadata": {},
     "output_type": "execute_result"
    }
   ],
   "source": [
    "users['balance'].describe()"
   ]
  },
  {
   "cell_type": "markdown",
   "metadata": {},
   "source": [
    "Я хочу проверить, есть ли какие-нибудь особенности в пропущенных значениях баланса у активных и ушедших клиентов."
   ]
  },
  {
   "cell_type": "code",
   "execution_count": 10,
   "metadata": {},
   "outputs": [],
   "source": [
    "# Сформируем таблицы активных и ушедших клиентов, где есть пропущенные значения\n",
    "churn_users = users[users['churn'] == 1]\n",
    "active_users = users[users['churn'] == 0]"
   ]
  },
  {
   "cell_type": "code",
   "execution_count": 11,
   "metadata": {},
   "outputs": [
    {
     "name": "stdout",
     "output_type": "stream",
     "text": [
      "Статистика балансов у ушедших клиентов:\n",
      "среднее значение: 120746.97113207541\n",
      "медиана: 119948.09\n"
     ]
    }
   ],
   "source": [
    "print('Статистика балансов у ушедших клиентов:')\n",
    "print('среднее значение:', churn_users['balance'].mean())\n",
    "print('медиана:', churn_users['balance'].median())"
   ]
  },
  {
   "cell_type": "code",
   "execution_count": 12,
   "metadata": {},
   "outputs": [
    {
     "name": "stdout",
     "output_type": "stream",
     "text": [
      "Статистика балансов у активных клиентов:\n",
      "среднее значение: 119535.8642695002\n",
      "медиана: 119791.215\n"
     ]
    }
   ],
   "source": [
    "print('Статистика балансов у активных клиентов:')\n",
    "print('среднее значение:', active_users['balance'].mean())\n",
    "print('медиана:', active_users['balance'].median())"
   ]
  },
  {
   "cell_type": "code",
   "execution_count": 13,
   "metadata": {},
   "outputs": [
    {
     "name": "stdout",
     "output_type": "stream",
     "text": [
      "Статистика общая:\n",
      "среднее значение: 119827.49379288674\n",
      "медиана: 119839.69\n"
     ]
    }
   ],
   "source": [
    "print('Статистика общая:')\n",
    "print('среднее значение:', users['balance'].mean())\n",
    "print('медиана:', users['balance'].median())"
   ]
  },
  {
   "cell_type": "code",
   "execution_count": 14,
   "metadata": {},
   "outputs": [
    {
     "name": "stdout",
     "output_type": "stream",
     "text": [
      "Пропущенные значения у ушедших клиентов: 0.24545900834560627\n",
      "Пропущенные значения у активных клиентов: 0.39143538867261085\n"
     ]
    }
   ],
   "source": [
    "print('Пропущенные значения у ушедших клиентов:', churn_users['balance'].isna().mean())\n",
    "print('Пропущенные значения у активных клиентов:', active_users['balance'].isna().mean())"
   ]
  },
  {
   "cell_type": "code",
   "execution_count": 15,
   "metadata": {},
   "outputs": [
    {
     "name": "stdout",
     "output_type": "stream",
     "text": [
      "<class 'pandas.core.frame.DataFrame'>\n",
      "RangeIndex: 10000 entries, 0 to 9999\n",
      "Data columns (total 12 columns):\n",
      " #   Column            Non-Null Count  Dtype   \n",
      "---  ------            --------------  -----   \n",
      " 0   userid            10000 non-null  int64   \n",
      " 1   score             10000 non-null  int64   \n",
      " 2   city              10000 non-null  object  \n",
      " 3   gender            10000 non-null  category\n",
      " 4   age               10000 non-null  int64   \n",
      " 5   objects           10000 non-null  int64   \n",
      " 6   balance           6383 non-null   float64 \n",
      " 7   products          10000 non-null  int64   \n",
      " 8   creditcard        10000 non-null  int64   \n",
      " 9   loyalty           10000 non-null  int64   \n",
      " 10  estimated_salary  10000 non-null  float64 \n",
      " 11  churn             10000 non-null  int64   \n",
      "dtypes: category(1), float64(2), int64(8), object(1)\n",
      "memory usage: 869.4+ KB\n"
     ]
    }
   ],
   "source": [
    "users.info()"
   ]
  },
  {
   "cell_type": "markdown",
   "metadata": {},
   "source": [
    "### Выводы по загрузке и предобработке данных\n",
    "- Данные загружены (в таблице 10000 записей в 12 колонках)\n",
    "- Типы данных в датасете корректны, в целях оптимизации памяти привел колонку \"пол\" в тип данных категория\n",
    "- Дубликатов в датасете не выявлено\n",
    "- Выявлены пропущенные значения в колонке \"баланс\", их количество составляло 36% от общего\n",
    "- Особенностей в пропущенных значениях баланса у активных и ушедших клиентов не выявлено\n",
    "- По пропущенным значениям баланса принято решение оставить все как есть"
   ]
  },
  {
   "cell_type": "markdown",
   "metadata": {},
   "source": [
    "## 3. Исследовательский анализ данных"
   ]
  },
  {
   "cell_type": "markdown",
   "metadata": {},
   "source": [
    "### Количество клиентов в разных городах"
   ]
  },
  {
   "cell_type": "code",
   "execution_count": 16,
   "metadata": {},
   "outputs": [],
   "source": [
    "# Сформируем группы клиентов ушедших и оставшихся\n",
    "churn_group = users[users['churn'] == 1]\n",
    "stay_group = users[users['churn'] != 1]"
   ]
  },
  {
   "cell_type": "code",
   "execution_count": 17,
   "metadata": {},
   "outputs": [
    {
     "data": {
      "text/plain": [
       "city\n",
       "Ростов Великий    2509\n",
       "Рыбинск           2477\n",
       "Ярославль         5014\n",
       "Name: userid, dtype: int64"
      ]
     },
     "execution_count": 17,
     "metadata": {},
     "output_type": "execute_result"
    }
   ],
   "source": [
    "# Посчитаем количество клиентов в разных городах\n",
    "users.groupby('city')['userid'].count()"
   ]
  },
  {
   "cell_type": "code",
   "execution_count": 18,
   "metadata": {},
   "outputs": [
    {
     "data": {
      "image/png": "[encoded data removed]",
      "text/plain": [
       "<Figure size 864x360 with 1 Axes>"
      ]
     },
     "metadata": {
      "needs_background": "light"
     },
     "output_type": "display_data"
    }
   ],
   "source": [
    "# Построим график\n",
    "plt.figure(figsize = (12,5))\n",
    "users.groupby('city')['userid'].count().plot(kind = 'barh',\n",
    "                                            title = 'Количество клиентов в разных городах')\n",
    "\n",
    "plt.xlabel('Количество клиентов')\n",
    "plt.ylabel('Город')\n",
    "plt.show()"
   ]
  },
  {
   "cell_type": "markdown",
   "metadata": {},
   "source": [
    "Больше всего клиентов в Ярославле, в Рыбинске и Ростове примерно поровну. В сумме в Ростове и в Рыбинске клиентов примерно столько же, сколько в Ярославле."
   ]
  },
  {
   "cell_type": "code",
   "execution_count": 19,
   "metadata": {},
   "outputs": [
    {
     "data": {
      "text/html": [
       "<div>\n",
       "<style scoped>\n",
       "    .dataframe tbody tr th:only-of-type {\n",
       "        vertical-align: middle;\n",
       "    }\n",
       "\n",
       "    .dataframe tbody tr th {\n",
       "        vertical-align: top;\n",
       "    }\n",
       "\n",
       "    .dataframe thead th {\n",
       "        text-align: right;\n",
       "    }\n",
       "</style>\n",
       "<table border=\"1\" class=\"dataframe\">\n",
       "  <thead>\n",
       "    <tr style=\"text-align: right;\">\n",
       "      <th></th>\n",
       "      <th>city</th>\n",
       "      <th>churn</th>\n",
       "      <th>userid</th>\n",
       "    </tr>\n",
       "  </thead>\n",
       "  <tbody>\n",
       "    <tr>\n",
       "      <th>0</th>\n",
       "      <td>Ростов Великий</td>\n",
       "      <td>0</td>\n",
       "      <td>1695</td>\n",
       "    </tr>\n",
       "    <tr>\n",
       "      <th>1</th>\n",
       "      <td>Ростов Великий</td>\n",
       "      <td>1</td>\n",
       "      <td>814</td>\n",
       "    </tr>\n",
       "    <tr>\n",
       "      <th>2</th>\n",
       "      <td>Рыбинск</td>\n",
       "      <td>0</td>\n",
       "      <td>2064</td>\n",
       "    </tr>\n",
       "    <tr>\n",
       "      <th>3</th>\n",
       "      <td>Рыбинск</td>\n",
       "      <td>1</td>\n",
       "      <td>413</td>\n",
       "    </tr>\n",
       "    <tr>\n",
       "      <th>4</th>\n",
       "      <td>Ярославль</td>\n",
       "      <td>0</td>\n",
       "      <td>4204</td>\n",
       "    </tr>\n",
       "    <tr>\n",
       "      <th>5</th>\n",
       "      <td>Ярославль</td>\n",
       "      <td>1</td>\n",
       "      <td>810</td>\n",
       "    </tr>\n",
       "  </tbody>\n",
       "</table>\n",
       "</div>"
      ],
      "text/plain": [
       "             city  churn  userid\n",
       "0  Ростов Великий      0    1695\n",
       "1  Ростов Великий      1     814\n",
       "2         Рыбинск      0    2064\n",
       "3         Рыбинск      1     413\n",
       "4       Ярославль      0    4204\n",
       "5       Ярославль      1     810"
      ]
     },
     "execution_count": 19,
     "metadata": {},
     "output_type": "execute_result"
    }
   ],
   "source": [
    "# Посчитаем количество клиентов разных городах в разбивке ушло-осталось\n",
    "gr_cities = users.groupby(['city', 'churn'])['userid'].count().to_frame()\n",
    "gr_cities = gr_cities.reset_index()\n",
    "gr_cities"
   ]
  },
  {
   "cell_type": "code",
   "execution_count": 20,
   "metadata": {},
   "outputs": [
    {
     "data": {
      "text/html": [
       "<div>\n",
       "<style scoped>\n",
       "    .dataframe tbody tr th:only-of-type {\n",
       "        vertical-align: middle;\n",
       "    }\n",
       "\n",
       "    .dataframe tbody tr th {\n",
       "        vertical-align: top;\n",
       "    }\n",
       "\n",
       "    .dataframe thead th {\n",
       "        text-align: right;\n",
       "    }\n",
       "</style>\n",
       "<table border=\"1\" class=\"dataframe\">\n",
       "  <thead>\n",
       "    <tr style=\"text-align: right;\">\n",
       "      <th>churn</th>\n",
       "      <th>0</th>\n",
       "      <th>1</th>\n",
       "    </tr>\n",
       "    <tr>\n",
       "      <th>city</th>\n",
       "      <th></th>\n",
       "      <th></th>\n",
       "    </tr>\n",
       "  </thead>\n",
       "  <tbody>\n",
       "    <tr>\n",
       "      <th>Ростов Великий</th>\n",
       "      <td>1695</td>\n",
       "      <td>814</td>\n",
       "    </tr>\n",
       "    <tr>\n",
       "      <th>Рыбинск</th>\n",
       "      <td>2064</td>\n",
       "      <td>413</td>\n",
       "    </tr>\n",
       "    <tr>\n",
       "      <th>Ярославль</th>\n",
       "      <td>4204</td>\n",
       "      <td>810</td>\n",
       "    </tr>\n",
       "  </tbody>\n",
       "</table>\n",
       "</div>"
      ],
      "text/plain": [
       "churn              0    1\n",
       "city                     \n",
       "Ростов Великий  1695  814\n",
       "Рыбинск         2064  413\n",
       "Ярославль       4204  810"
      ]
     },
     "execution_count": 20,
     "metadata": {},
     "output_type": "execute_result"
    }
   ],
   "source": [
    "# Преобразуем таблицу\n",
    "pivot_cities = gr_cities.pivot(\n",
    "index = 'city',\n",
    "columns = 'churn',\n",
    "values = 'userid')\n",
    "pivot_cities"
   ]
  },
  {
   "cell_type": "code",
   "execution_count": 21,
   "metadata": {},
   "outputs": [
    {
     "data": {
      "image/png": "[encoded data removed]",
      "text/plain": [
       "<Figure size 864x360 with 1 Axes>"
      ]
     },
     "metadata": {
      "needs_background": "light"
     },
     "output_type": "display_data"
    }
   ],
   "source": [
    "# Построим график количества клиентов в городах в разбивке ушло-осталось\n",
    "pivot_cities.plot(kind = 'barh', title = \"Количество клиентов в городах в разбивке ушло-осталось\", figsize = (12,5))\n",
    "plt.xlabel('Количество клиентов')\n",
    "plt.ylabel('Город')\n",
    "\n",
    "plt.show()"
   ]
  },
  {
   "cell_type": "markdown",
   "metadata": {},
   "source": [
    "В Ростове больше всего процент ушедших клиентов, надо на это обратить внимание. Возможно что-то не так с обслуживанием в Ростовском филиале."
   ]
  },
  {
   "cell_type": "markdown",
   "metadata": {},
   "source": [
    "### Количество мужчин и женщин"
   ]
  },
  {
   "cell_type": "code",
   "execution_count": 22,
   "metadata": {},
   "outputs": [],
   "source": [
    "# Посчитаем соотношение мужчин и женщин среди клиентов c делением на тех кто ушел и кто остался\n",
    "gr_genders = users.groupby(['gender', 'churn'])['userid'].count().to_frame()\n",
    "gr_genders = gr_genders.reset_index()\n",
    "\n",
    "pivot_genders = gr_genders.pivot(\n",
    "index = 'gender',\n",
    "columns = 'churn',\n",
    "values = 'userid')"
   ]
  },
  {
   "cell_type": "code",
   "execution_count": 23,
   "metadata": {},
   "outputs": [
    {
     "data": {
      "image/png": "[encoded data removed]",
      "text/plain": [
       "<Figure size 864x360 with 1 Axes>"
      ]
     },
     "metadata": {
      "needs_background": "light"
     },
     "output_type": "display_data"
    }
   ],
   "source": [
    "# Построим график количества мужчин и женщин в разбивке ушло-осталось\n",
    "pivot_genders.plot(kind = 'barh', title = \"Количество мужчин и женщин в разбивке ушло-осталось\", figsize = (12,5))\n",
    "plt.xlabel('Количество клиентов')\n",
    "plt.ylabel('Пол')\n",
    "\n",
    "plt.show()"
   ]
  },
  {
   "cell_type": "code",
   "execution_count": 24,
   "metadata": {},
   "outputs": [
    {
     "data": {
      "text/html": [
       "<div>\n",
       "<style scoped>\n",
       "    .dataframe tbody tr th:only-of-type {\n",
       "        vertical-align: middle;\n",
       "    }\n",
       "\n",
       "    .dataframe tbody tr th {\n",
       "        vertical-align: top;\n",
       "    }\n",
       "\n",
       "    .dataframe thead th {\n",
       "        text-align: right;\n",
       "    }\n",
       "</style>\n",
       "<table border=\"1\" class=\"dataframe\">\n",
       "  <thead>\n",
       "    <tr style=\"text-align: right;\">\n",
       "      <th>churn</th>\n",
       "      <th>0</th>\n",
       "      <th>1</th>\n",
       "      <th>%</th>\n",
       "    </tr>\n",
       "    <tr>\n",
       "      <th>gender</th>\n",
       "      <th></th>\n",
       "      <th></th>\n",
       "      <th></th>\n",
       "    </tr>\n",
       "  </thead>\n",
       "  <tbody>\n",
       "    <tr>\n",
       "      <th>Ж</th>\n",
       "      <td>3404</td>\n",
       "      <td>1139</td>\n",
       "      <td>0.334606</td>\n",
       "    </tr>\n",
       "    <tr>\n",
       "      <th>М</th>\n",
       "      <td>4559</td>\n",
       "      <td>898</td>\n",
       "      <td>0.196973</td>\n",
       "    </tr>\n",
       "  </tbody>\n",
       "</table>\n",
       "</div>"
      ],
      "text/plain": [
       "churn      0     1         %\n",
       "gender                      \n",
       "Ж       3404  1139  0.334606\n",
       "М       4559   898  0.196973"
      ]
     },
     "execution_count": 24,
     "metadata": {},
     "output_type": "execute_result"
    }
   ],
   "source": [
    "# Добавим в таблицу колонку с процентным изменением\n",
    "pivot_genders['%'] = pivot_genders[1] / pivot_genders[0]\n",
    "pivot_genders"
   ]
  },
  {
   "cell_type": "markdown",
   "metadata": {},
   "source": [
    "Женщин ушло больше чем мужчин (33% против 20%)"
   ]
  },
  {
   "cell_type": "code",
   "execution_count": 25,
   "metadata": {},
   "outputs": [
    {
     "data": {
      "image/png": "[encoded data removed]",
      "text/plain": [
       "<Figure size 648x648 with 1 Axes>"
      ]
     },
     "metadata": {},
     "output_type": "display_data"
    }
   ],
   "source": [
    "# Построим круговую диаграмму соотношения клиентов мужчин и женщин\n",
    "plt.figure(figsize = (9,9))\n",
    "users.groupby('gender')['userid'].count().plot(kind = 'pie',\n",
    "                                              title = 'Соотношение мужчин и женщин', autopct='%.2f%%')\n",
    "plt.ylabel('')\n",
    "plt.show()"
   ]
  },
  {
   "cell_type": "markdown",
   "metadata": {},
   "source": [
    "Мужчин примерно на 10% больше чем женщин."
   ]
  },
  {
   "cell_type": "markdown",
   "metadata": {},
   "source": [
    "### Категоризация по возрасту"
   ]
  },
  {
   "cell_type": "code",
   "execution_count": 26,
   "metadata": {},
   "outputs": [],
   "source": [
    "# Функция категоризации по возрасту\n",
    "def group_age(row):\n",
    "    if row < 30:\n",
    "        return '<30'\n",
    "    elif row >=30 and row < 40:\n",
    "        return '30-40'\n",
    "    elif row >= 40 and row < 50:\n",
    "        return '40-50'\n",
    "    elif row >= 50 and row < 65:\n",
    "        return '50-65'\n",
    "    return '65+'"
   ]
  },
  {
   "cell_type": "code",
   "execution_count": 27,
   "metadata": {},
   "outputs": [
    {
     "data": {
      "text/plain": [
       "count    10000.000000\n",
       "mean        38.921800\n",
       "std         10.487806\n",
       "min         18.000000\n",
       "25%         32.000000\n",
       "50%         37.000000\n",
       "75%         44.000000\n",
       "max         92.000000\n",
       "Name: age, dtype: float64"
      ]
     },
     "execution_count": 27,
     "metadata": {},
     "output_type": "execute_result"
    }
   ],
   "source": [
    "# Посмотрим на перцентили распределения возраста клиентов\n",
    "users['age'].describe()"
   ]
  },
  {
   "cell_type": "code",
   "execution_count": 28,
   "metadata": {},
   "outputs": [],
   "source": [
    "# Применим функцию\n",
    "users['age_group'] = users['age'].apply(group_age)"
   ]
  },
  {
   "cell_type": "code",
   "execution_count": 29,
   "metadata": {},
   "outputs": [
    {
     "data": {
      "text/plain": [
       "age_group\n",
       "30-40    4346\n",
       "40-50    2618\n",
       "50-65    1113\n",
       "65+       282\n",
       "<30      1641\n",
       "Name: userid, dtype: int64"
      ]
     },
     "execution_count": 29,
     "metadata": {},
     "output_type": "execute_result"
    }
   ],
   "source": [
    "# Посчитаем количество клиентов в разных возрастных категориях\n",
    "users.groupby('age_group')['userid'].count()"
   ]
  },
  {
   "cell_type": "code",
   "execution_count": 30,
   "metadata": {},
   "outputs": [
    {
     "data": {
      "image/png": "[encoded data removed]",
      "text/plain": [
       "<Figure size 648x648 with 1 Axes>"
      ]
     },
     "metadata": {},
     "output_type": "display_data"
    }
   ],
   "source": [
    "# Построим круговую диаграмму категорий клиентов по возрасту\n",
    "plt.figure(figsize = (9,9))\n",
    "users.groupby('age_group')['userid'].count().plot(kind = 'pie',\n",
    "                                              title = 'Соотношение категорий клиентов по возрасту', autopct='%.2f%%')\n",
    "plt.ylabel('')\n",
    "plt.show()"
   ]
  },
  {
   "cell_type": "markdown",
   "metadata": {},
   "source": [
    "Клиенты банка делятся на следующие возрастные категории:\n",
    "\n",
    "- 30-40 (34%)\n",
    "- 40-50 (26%)\n",
    "- до 30 (16%)\n",
    "- 50-65 (11%)\n",
    "- старше 65 (3%)\n",
    "    \n",
    "Самая большая группа: 30-40 лет"
   ]
  },
  {
   "cell_type": "code",
   "execution_count": 31,
   "metadata": {},
   "outputs": [],
   "source": [
    "# Посчитаем количество клиентов в разных возрастных категориях c разбивкой ушло-осталось\n",
    "gr_age = users.groupby(['age_group', 'churn'])['userid'].count().to_frame()\n",
    "gr_age = gr_age.reset_index()\n",
    "\n",
    "pivot_age = gr_age.pivot(\n",
    "index = 'age_group',\n",
    "columns = 'churn',\n",
    "values = 'userid')"
   ]
  },
  {
   "cell_type": "code",
   "execution_count": 32,
   "metadata": {},
   "outputs": [
    {
     "data": {
      "image/png": "[encoded data removed]",
      "text/plain": [
       "<Figure size 864x360 with 1 Axes>"
      ]
     },
     "metadata": {
      "needs_background": "light"
     },
     "output_type": "display_data"
    }
   ],
   "source": [
    "# Построим график возрастных категорий в разбивке ушло-осталось\n",
    "pivot_age.plot(kind = 'barh', title = \"Возрастные категории в разбивке ушло-осталось\", figsize = (12,5))\n",
    "plt.xlabel('Количество клиентов')\n",
    "plt.ylabel('Возрастная категория')\n",
    "\n",
    "plt.show()"
   ]
  },
  {
   "cell_type": "code",
   "execution_count": 33,
   "metadata": {},
   "outputs": [
    {
     "data": {
      "text/html": [
       "<div>\n",
       "<style scoped>\n",
       "    .dataframe tbody tr th:only-of-type {\n",
       "        vertical-align: middle;\n",
       "    }\n",
       "\n",
       "    .dataframe tbody tr th {\n",
       "        vertical-align: top;\n",
       "    }\n",
       "\n",
       "    .dataframe thead th {\n",
       "        text-align: right;\n",
       "    }\n",
       "</style>\n",
       "<table border=\"1\" class=\"dataframe\">\n",
       "  <thead>\n",
       "    <tr style=\"text-align: right;\">\n",
       "      <th>churn</th>\n",
       "      <th>0</th>\n",
       "      <th>1</th>\n",
       "      <th>%</th>\n",
       "    </tr>\n",
       "    <tr>\n",
       "      <th>age_group</th>\n",
       "      <th></th>\n",
       "      <th></th>\n",
       "      <th></th>\n",
       "    </tr>\n",
       "  </thead>\n",
       "  <tbody>\n",
       "    <tr>\n",
       "      <th>50-65</th>\n",
       "      <td>522</td>\n",
       "      <td>591</td>\n",
       "      <td>1.132184</td>\n",
       "    </tr>\n",
       "    <tr>\n",
       "      <th>40-50</th>\n",
       "      <td>1812</td>\n",
       "      <td>806</td>\n",
       "      <td>0.444812</td>\n",
       "    </tr>\n",
       "    <tr>\n",
       "      <th>65+</th>\n",
       "      <td>239</td>\n",
       "      <td>43</td>\n",
       "      <td>0.179916</td>\n",
       "    </tr>\n",
       "    <tr>\n",
       "      <th>30-40</th>\n",
       "      <td>3873</td>\n",
       "      <td>473</td>\n",
       "      <td>0.122128</td>\n",
       "    </tr>\n",
       "    <tr>\n",
       "      <th>&lt;30</th>\n",
       "      <td>1517</td>\n",
       "      <td>124</td>\n",
       "      <td>0.081740</td>\n",
       "    </tr>\n",
       "  </tbody>\n",
       "</table>\n",
       "</div>"
      ],
      "text/plain": [
       "churn         0    1         %\n",
       "age_group                     \n",
       "50-65       522  591  1.132184\n",
       "40-50      1812  806  0.444812\n",
       "65+         239   43  0.179916\n",
       "30-40      3873  473  0.122128\n",
       "<30        1517  124  0.081740"
      ]
     },
     "execution_count": 33,
     "metadata": {},
     "output_type": "execute_result"
    }
   ],
   "source": [
    "# Добавим колонку с процентным изменением\n",
    "pivot_age['%'] = pivot_age[1] / pivot_age[0]\n",
    "pivot_age.sort_values(by = '%', ascending = False)"
   ]
  },
  {
   "cell_type": "markdown",
   "metadata": {},
   "source": [
    "Больше всего отток в категориях:\n",
    "- 50-65 (там ушло больше чем осталось -113%)\n",
    "- 40-50 (-44%)"
   ]
  },
  {
   "cell_type": "markdown",
   "metadata": {},
   "source": [
    "### Категоризация по зарплате"
   ]
  },
  {
   "cell_type": "code",
   "execution_count": 34,
   "metadata": {},
   "outputs": [
    {
     "data": {
      "image/png": "[encoded data removed]",
      "text/plain": [
       "<Figure size 648x648 with 1 Axes>"
      ]
     },
     "metadata": {
      "needs_background": "light"
     },
     "output_type": "display_data"
    }
   ],
   "source": [
    "# Построим боксплот распределения клиентов по заработной плате\n",
    "plt.figure(figsize = (9,9))\n",
    "plt.boxplot(users['estimated_salary'])\n",
    "plt.title('Боксплот распределения клиентов по заработной плате')\n",
    "plt.ylabel('Размер заработной платы')\n",
    "plt.show()"
   ]
  },
  {
   "cell_type": "code",
   "execution_count": 35,
   "metadata": {},
   "outputs": [],
   "source": [
    "# Функция категоризации по зарплате\n",
    "def group_salary(row):\n",
    "    if row < 50000:\n",
    "        return 'до 50 тыс. рублей'\n",
    "    elif row >=50000 and row < 100000:\n",
    "        return '50 - 100 тыс. рублей'\n",
    "    elif row >=100000 and row < 150000:\n",
    "        return '100 - 150 тыс. рублей'\n",
    "    return 'больше 150 тыс. рублей'"
   ]
  },
  {
   "cell_type": "code",
   "execution_count": 36,
   "metadata": {},
   "outputs": [
    {
     "data": {
      "text/plain": [
       "count     10000.000000\n",
       "mean     100090.239881\n",
       "std       57510.492818\n",
       "min          11.580000\n",
       "25%       51002.110000\n",
       "50%      100193.915000\n",
       "75%      149388.247500\n",
       "max      199992.480000\n",
       "Name: estimated_salary, dtype: float64"
      ]
     },
     "execution_count": 36,
     "metadata": {},
     "output_type": "execute_result"
    }
   ],
   "source": [
    "# Посмотрим перцентили распределения заработной платы\n",
    "users['estimated_salary'].describe()"
   ]
  },
  {
   "cell_type": "code",
   "execution_count": 37,
   "metadata": {},
   "outputs": [],
   "source": [
    "# Применим функцию категоризации\n",
    "users['salary_group'] = users['estimated_salary'].apply(group_salary)"
   ]
  },
  {
   "cell_type": "code",
   "execution_count": 38,
   "metadata": {},
   "outputs": [
    {
     "data": {
      "text/plain": [
       "salary_group\n",
       "100 - 150 тыс. рублей     2555\n",
       "50 - 100 тыс. рублей      2537\n",
       "больше 150 тыс. рублей    2455\n",
       "до 50 тыс. рублей         2453\n",
       "Name: userid, dtype: int64"
      ]
     },
     "execution_count": 38,
     "metadata": {},
     "output_type": "execute_result"
    }
   ],
   "source": [
    "# Посчитаем количество клиентов в разных зарплаттных категориях\n",
    "users.groupby('salary_group')['userid'].count()"
   ]
  },
  {
   "cell_type": "code",
   "execution_count": 39,
   "metadata": {},
   "outputs": [
    {
     "data": {
      "image/png": "[encoded data removed]",
      "text/plain": [
       "<Figure size 648x648 with 1 Axes>"
      ]
     },
     "metadata": {},
     "output_type": "display_data"
    }
   ],
   "source": [
    "# Построим круговую диаграмму соотношения категорий клиентов по зарплате\n",
    "plt.figure(figsize = (9,9))\n",
    "users.groupby('salary_group')['userid'].count().plot(kind = 'pie',\n",
    "                                              title = 'Соотношение категорий клиентов по зарплате', autopct='%.2f%%')\n",
    "plt.ylabel('')\n",
    "plt.show()"
   ]
  },
  {
   "cell_type": "markdown",
   "metadata": {},
   "source": [
    "Всех категорий по заработной плате у нас поровну, примерно по 25%"
   ]
  },
  {
   "cell_type": "code",
   "execution_count": 40,
   "metadata": {},
   "outputs": [],
   "source": [
    "# Посчитаем количество клиентов в разных категориях заработной платы c разбивкой ушло-осталось\n",
    "gr_salary = users.groupby(['salary_group', 'churn'])['userid'].count().to_frame()\n",
    "gr_salary = gr_salary.reset_index()\n",
    "\n",
    "pivot_salary = gr_salary.pivot(\n",
    "index = 'salary_group',\n",
    "columns = 'churn',\n",
    "values = 'userid')"
   ]
  },
  {
   "cell_type": "code",
   "execution_count": 41,
   "metadata": {},
   "outputs": [
    {
     "data": {
      "image/png": "[encoded data removed]",
      "text/plain": [
       "<Figure size 864x360 with 1 Axes>"
      ]
     },
     "metadata": {
      "needs_background": "light"
     },
     "output_type": "display_data"
    }
   ],
   "source": [
    "# Построим график зарплатных категорий с разбивкой ушло-осталось\n",
    "pivot_salary.plot(kind = 'barh', title = \"Зарплатные категории в разбивке ушло-осталось\", figsize = (12,5))\n",
    "plt.xlabel('Количество клиентов')\n",
    "plt.ylabel('Зарплатная категория')\n",
    "\n",
    "plt.show()"
   ]
  },
  {
   "cell_type": "markdown",
   "metadata": {},
   "source": [
    "Во всех зарплатных категориях отток одинаковый."
   ]
  },
  {
   "cell_type": "markdown",
   "metadata": {},
   "source": [
    "### Категоризация клиентов по остатку на счете"
   ]
  },
  {
   "cell_type": "code",
   "execution_count": 42,
   "metadata": {},
   "outputs": [],
   "source": [
    "# Отсортируем только клиентов с балансом на счете\n",
    "gb_users = users[users['balance'].notna()]"
   ]
  },
  {
   "cell_type": "code",
   "execution_count": 43,
   "metadata": {},
   "outputs": [],
   "source": [
    "# Функция категоризации по балансу\n",
    "def group_balance(row):\n",
    "    if row < 50000:\n",
    "        return 'до 50 000'\n",
    "    elif row >=50000 and row < 100000:\n",
    "        return '50 000 - 99 000'\n",
    "    elif row >=100000 and row < 150000:\n",
    "        return '100 000 - 149 999'\n",
    "    elif row >=150000 and row < 200000:\n",
    "        return '150 000 - 199 999'    \n",
    "    return 'больше 200 000'"
   ]
  },
  {
   "cell_type": "code",
   "execution_count": 44,
   "metadata": {},
   "outputs": [],
   "source": [
    "# Применим функцию категоризации\n",
    "gb_users['balance_group'] = gb_users['balance'].apply(group_balance)"
   ]
  },
  {
   "cell_type": "code",
   "execution_count": 45,
   "metadata": {},
   "outputs": [
    {
     "data": {
      "text/plain": [
       "balance_group\n",
       "100 000 - 149 999    3830\n",
       "50 000 - 99 000      1509\n",
       "150 000 - 199 999     935\n",
       "до 50 000              75\n",
       "больше 200 000         34\n",
       "Name: userid, dtype: int64"
      ]
     },
     "execution_count": 45,
     "metadata": {},
     "output_type": "execute_result"
    }
   ],
   "source": [
    "# Посчитаем количество клиентов в категориях по балансу\n",
    "balance_grouped_users = gb_users.groupby('balance_group')['userid'].count()\n",
    "balance_grouped_users.sort_values(ascending = False)"
   ]
  },
  {
   "cell_type": "code",
   "execution_count": 46,
   "metadata": {},
   "outputs": [
    {
     "data": {
      "image/png": "[encoded data removed]",
      "text/plain": [
       "<Figure size 864x576 with 1 Axes>"
      ]
     },
     "metadata": {
      "needs_background": "light"
     },
     "output_type": "display_data"
    }
   ],
   "source": [
    "# Построим график количества клиентов в категориях по балансу\n",
    "plt.figure(figsize = (12,8))\n",
    "balance_grouped_users.sort_values().plot(kind = 'barh',\n",
    "                                        title = 'Количество клиентов в категориях по балансу')\n",
    "\n",
    "plt.xlabel('Количество клиентов')\n",
    "plt.ylabel('Баланс')\n",
    "plt.show()"
   ]
  },
  {
   "cell_type": "markdown",
   "metadata": {},
   "source": [
    "Основная масса клиентов имеет баланс на счете от 100 тыс. рублей до 150 тыс. рублей. До 50 тыс. и больше 200 тыс. - совсем мало."
   ]
  },
  {
   "cell_type": "code",
   "execution_count": 47,
   "metadata": {},
   "outputs": [],
   "source": [
    "# Посчитаем количество клиентов в разных категориях по балансу в разбивке ушло-осталось\n",
    "gr_balance = gb_users.groupby(['balance_group', 'churn'])['userid'].count().to_frame()\n",
    "gr_balance = gr_balance.reset_index()\n",
    "\n",
    "pivot_balance = gr_balance.pivot(\n",
    "index = 'balance_group',\n",
    "columns = 'churn',\n",
    "values = 'userid')"
   ]
  },
  {
   "cell_type": "code",
   "execution_count": 48,
   "metadata": {},
   "outputs": [
    {
     "data": {
      "image/png": "[encoded data removed]",
      "text/plain": [
       "<Figure size 864x360 with 1 Axes>"
      ]
     },
     "metadata": {
      "needs_background": "light"
     },
     "output_type": "display_data"
    }
   ],
   "source": [
    "# Построим график количества клиентов в категориях по балансу в разбивке ушло-осталось\n",
    "pivot_balance.plot(kind = 'barh', title = \"Категории баланса в разбивке ушло-осталось\", figsize = (12,5))\n",
    "plt.xlabel('Количество клиентов')\n",
    "plt.ylabel('Баланс')\n",
    "\n",
    "plt.show()"
   ]
  },
  {
   "cell_type": "code",
   "execution_count": 49,
   "metadata": {},
   "outputs": [
    {
     "data": {
      "text/html": [
       "<div>\n",
       "<style scoped>\n",
       "    .dataframe tbody tr th:only-of-type {\n",
       "        vertical-align: middle;\n",
       "    }\n",
       "\n",
       "    .dataframe tbody tr th {\n",
       "        vertical-align: top;\n",
       "    }\n",
       "\n",
       "    .dataframe thead th {\n",
       "        text-align: right;\n",
       "    }\n",
       "</style>\n",
       "<table border=\"1\" class=\"dataframe\">\n",
       "  <thead>\n",
       "    <tr style=\"text-align: right;\">\n",
       "      <th>churn</th>\n",
       "      <th>0</th>\n",
       "      <th>1</th>\n",
       "      <th>%</th>\n",
       "    </tr>\n",
       "    <tr>\n",
       "      <th>balance_group</th>\n",
       "      <th></th>\n",
       "      <th></th>\n",
       "      <th></th>\n",
       "    </tr>\n",
       "  </thead>\n",
       "  <tbody>\n",
       "    <tr>\n",
       "      <th>больше 200 000</th>\n",
       "      <td>15</td>\n",
       "      <td>19</td>\n",
       "      <td>1.266667</td>\n",
       "    </tr>\n",
       "    <tr>\n",
       "      <th>до 50 000</th>\n",
       "      <td>49</td>\n",
       "      <td>26</td>\n",
       "      <td>0.530612</td>\n",
       "    </tr>\n",
       "    <tr>\n",
       "      <th>100 000 - 149 999</th>\n",
       "      <td>2843</td>\n",
       "      <td>987</td>\n",
       "      <td>0.347168</td>\n",
       "    </tr>\n",
       "    <tr>\n",
       "      <th>150 000 - 199 999</th>\n",
       "      <td>730</td>\n",
       "      <td>205</td>\n",
       "      <td>0.280822</td>\n",
       "    </tr>\n",
       "    <tr>\n",
       "      <th>50 000 - 99 000</th>\n",
       "      <td>1209</td>\n",
       "      <td>300</td>\n",
       "      <td>0.248139</td>\n",
       "    </tr>\n",
       "  </tbody>\n",
       "</table>\n",
       "</div>"
      ],
      "text/plain": [
       "churn                 0    1         %\n",
       "balance_group                         \n",
       "больше 200 000       15   19  1.266667\n",
       "до 50 000            49   26  0.530612\n",
       "100 000 - 149 999  2843  987  0.347168\n",
       "150 000 - 199 999   730  205  0.280822\n",
       "50 000 - 99 000    1209  300  0.248139"
      ]
     },
     "execution_count": 49,
     "metadata": {},
     "output_type": "execute_result"
    }
   ],
   "source": [
    "# Добавим колонку с процентным изменением\n",
    "pivot_balance['%'] = pivot_balance[1] / pivot_balance[0]\n",
    "pivot_balance.sort_values(by = '%', ascending = False)"
   ]
  },
  {
   "cell_type": "markdown",
   "metadata": {},
   "source": [
    "Категория клиентов с балансом больше 200 тыс. самая немногочисленная, но из нее ушел наибольший процент клиентов. Далее клиенты с остатком на счете до 50 тыс., ушло 53%. В оставшихся категориях процент оттока около 30%"
   ]
  },
  {
   "cell_type": "markdown",
   "metadata": {},
   "source": [
    "### Категоризация клиентов по количеству продуктов, которыми пользуются"
   ]
  },
  {
   "cell_type": "code",
   "execution_count": 50,
   "metadata": {},
   "outputs": [
    {
     "data": {
      "text/plain": [
       "1    5084\n",
       "2    4590\n",
       "3     266\n",
       "4      60\n",
       "Name: products, dtype: int64"
      ]
     },
     "execution_count": 50,
     "metadata": {},
     "output_type": "execute_result"
    }
   ],
   "source": [
    "# Посчитаем сколько клиентов каким количеством продуктов пользуются\n",
    "users['products'].value_counts()"
   ]
  },
  {
   "cell_type": "code",
   "execution_count": 51,
   "metadata": {},
   "outputs": [
    {
     "data": {
      "image/png": "[encoded data removed]",
      "text/plain": [
       "<Figure size 864x576 with 1 Axes>"
      ]
     },
     "metadata": {
      "needs_background": "light"
     },
     "output_type": "display_data"
    }
   ],
   "source": [
    "# Построим график\n",
    "plt.figure(figsize = (12,8))\n",
    "users['products'].value_counts(ascending = True).plot(kind = 'barh',\n",
    "                                                     title = 'Количество продуктов, которыми пользуются клиенты')\n",
    "plt.xlabel('Количество клиентов')\n",
    "plt.ylabel('Количество продуктов')\n",
    "plt.show()"
   ]
  },
  {
   "cell_type": "code",
   "execution_count": 52,
   "metadata": {},
   "outputs": [
    {
     "data": {
      "text/plain": [
       "1    0.5084\n",
       "2    0.4590\n",
       "3    0.0266\n",
       "4    0.0060\n",
       "Name: products, dtype: float64"
      ]
     },
     "execution_count": 52,
     "metadata": {},
     "output_type": "execute_result"
    }
   ],
   "source": [
    "# Посчитаем процент клиентов пользующихся разным количеством продуктов\n",
    "users['products'].value_counts(normalize = True)"
   ]
  },
  {
   "cell_type": "markdown",
   "metadata": {},
   "source": [
    "Основная масса клиентов пользуются одним или двумя продуктами (51% и 46% соответственно). Тех кто пользуется тремя или четырмя продуктами совсем мало (3% и меньше 1% соответственно)."
   ]
  },
  {
   "cell_type": "code",
   "execution_count": 53,
   "metadata": {},
   "outputs": [],
   "source": [
    "# Посчитаем количество клиентов пользующихся различным количеством продуктов c разбивкой ушло-осталось\n",
    "gr_products = users.groupby(['products', 'churn'])['userid'].count().to_frame()\n",
    "gr_products = gr_products.reset_index()\n",
    "\n",
    "pivot_products = gr_products.pivot(\n",
    "index = 'products',\n",
    "columns = 'churn',\n",
    "values = 'userid')"
   ]
  },
  {
   "cell_type": "code",
   "execution_count": 54,
   "metadata": {},
   "outputs": [
    {
     "data": {
      "image/png": "[encoded data removed]",
      "text/plain": [
       "<Figure size 864x360 with 1 Axes>"
      ]
     },
     "metadata": {
      "needs_background": "light"
     },
     "output_type": "display_data"
    }
   ],
   "source": [
    "# Построим график количества клиентов пользующихся различным количеством продуктов c разбивкой ушло-осталось\n",
    "pivot_products.plot(kind = 'barh', title = \"Категории баланса в разбивке ушло-осталось\", figsize = (12,5))\n",
    "plt.xlabel('Количество клиентов')\n",
    "plt.ylabel('Количество продуктов')\n",
    "\n",
    "plt.show()"
   ]
  },
  {
   "cell_type": "code",
   "execution_count": 55,
   "metadata": {},
   "outputs": [
    {
     "data": {
      "text/html": [
       "<div>\n",
       "<style scoped>\n",
       "    .dataframe tbody tr th:only-of-type {\n",
       "        vertical-align: middle;\n",
       "    }\n",
       "\n",
       "    .dataframe tbody tr th {\n",
       "        vertical-align: top;\n",
       "    }\n",
       "\n",
       "    .dataframe thead th {\n",
       "        text-align: right;\n",
       "    }\n",
       "</style>\n",
       "<table border=\"1\" class=\"dataframe\">\n",
       "  <thead>\n",
       "    <tr style=\"text-align: right;\">\n",
       "      <th>churn</th>\n",
       "      <th>0</th>\n",
       "      <th>1</th>\n",
       "      <th>%</th>\n",
       "    </tr>\n",
       "    <tr>\n",
       "      <th>products</th>\n",
       "      <th></th>\n",
       "      <th></th>\n",
       "      <th></th>\n",
       "    </tr>\n",
       "  </thead>\n",
       "  <tbody>\n",
       "    <tr>\n",
       "      <th>3</th>\n",
       "      <td>46.0</td>\n",
       "      <td>220.0</td>\n",
       "      <td>4.782609</td>\n",
       "    </tr>\n",
       "    <tr>\n",
       "      <th>1</th>\n",
       "      <td>3675.0</td>\n",
       "      <td>1409.0</td>\n",
       "      <td>0.383401</td>\n",
       "    </tr>\n",
       "    <tr>\n",
       "      <th>2</th>\n",
       "      <td>4242.0</td>\n",
       "      <td>348.0</td>\n",
       "      <td>0.082037</td>\n",
       "    </tr>\n",
       "    <tr>\n",
       "      <th>4</th>\n",
       "      <td>NaN</td>\n",
       "      <td>60.0</td>\n",
       "      <td>NaN</td>\n",
       "    </tr>\n",
       "  </tbody>\n",
       "</table>\n",
       "</div>"
      ],
      "text/plain": [
       "churn          0       1         %\n",
       "products                          \n",
       "3           46.0   220.0  4.782609\n",
       "1         3675.0  1409.0  0.383401\n",
       "2         4242.0   348.0  0.082037\n",
       "4            NaN    60.0       NaN"
      ]
     },
     "execution_count": 55,
     "metadata": {},
     "output_type": "execute_result"
    }
   ],
   "source": [
    "# Добавим колонку с процентным изменением\n",
    "pivot_products['%'] = pivot_products[1] / pivot_products[0]\n",
    "pivot_products.sort_values(by = '%', ascending = False)"
   ]
  },
  {
   "cell_type": "markdown",
   "metadata": {},
   "source": [
    "Больше всего ушло клиентов из тех кто пользовался 3 и 4 продуктами. В этих категориях клиентов ушло больше чем осталось."
   ]
  },
  {
   "cell_type": "markdown",
   "metadata": {},
   "source": [
    "### Категоризация клиентов по количеству объектов в собственности"
   ]
  },
  {
   "cell_type": "code",
   "execution_count": 56,
   "metadata": {},
   "outputs": [
    {
     "data": {
      "image/png": "[encoded data removed]",
      "text/plain": [
       "<Figure size 648x648 with 1 Axes>"
      ]
     },
     "metadata": {
      "needs_background": "light"
     },
     "output_type": "display_data"
    }
   ],
   "source": [
    "# Построим боксплот по количеству объектов в собственности\n",
    "plt.figure(figsize = (9, 9))\n",
    "plt.boxplot(users['objects'])\n",
    "plt.title('Боксплот по количеству объектов в собственности')\n",
    "plt.ylabel('Количество объектов')\n",
    "plt.show()"
   ]
  },
  {
   "cell_type": "code",
   "execution_count": 57,
   "metadata": {},
   "outputs": [],
   "source": [
    "# Функция категоризации по количеству объектов в собственности\n",
    "def group_objects(row):\n",
    "    if row <= 2:\n",
    "        return '0-2'\n",
    "    elif row > 2 and row <= 5:\n",
    "        return '3 - 5'\n",
    "    return 'больше 5'"
   ]
  },
  {
   "cell_type": "code",
   "execution_count": 58,
   "metadata": {},
   "outputs": [],
   "source": [
    "# Применим функцию категоризации\n",
    "users['objects_group'] = users['objects'].apply(group_objects)"
   ]
  },
  {
   "cell_type": "code",
   "execution_count": 59,
   "metadata": {},
   "outputs": [
    {
     "data": {
      "text/plain": [
       "больше 5    4494\n",
       "3 - 5       3010\n",
       "0-2         2496\n",
       "Name: objects_group, dtype: int64"
      ]
     },
     "execution_count": 59,
     "metadata": {},
     "output_type": "execute_result"
    }
   ],
   "source": [
    "# Посчитаем количество клиентов в разных категориях\n",
    "users['objects_group'].value_counts()"
   ]
  },
  {
   "cell_type": "code",
   "execution_count": 60,
   "metadata": {},
   "outputs": [
    {
     "data": {
      "image/png": "[encoded data removed]",
      "text/plain": [
       "<Figure size 864x360 with 1 Axes>"
      ]
     },
     "metadata": {
      "needs_background": "light"
     },
     "output_type": "display_data"
    }
   ],
   "source": [
    "# Построим график количества клиентов в разных категориях по количеству объектов в собственности\n",
    "plt.figure(figsize = (12,5))\n",
    "users['objects_group'].value_counts(ascending = True).plot(kind = 'barh')\n",
    "plt.title('Количество клиентов в разных категориях по количеству объектов в собственности')\n",
    "plt.xlabel('Количество клиентов')\n",
    "plt.ylabel('Количество объектов в собственности')\n",
    "plt.show()"
   ]
  },
  {
   "cell_type": "code",
   "execution_count": 61,
   "metadata": {},
   "outputs": [
    {
     "data": {
      "text/plain": [
       "больше 5    0.4494\n",
       "3 - 5       0.3010\n",
       "0-2         0.2496\n",
       "Name: objects_group, dtype: float64"
      ]
     },
     "execution_count": 61,
     "metadata": {},
     "output_type": "execute_result"
    }
   ],
   "source": [
    "# Посмотрим процентную разбивку по категориям\n",
    "users['objects_group'].value_counts(normalize = True)"
   ]
  },
  {
   "cell_type": "markdown",
   "metadata": {},
   "source": [
    "Среди наших клиентов большинство (44%) имеет больше 5 объектов в собственности, У 30% от 3-х до 5-ти объектов. У нас явно данные о вип клиентах."
   ]
  },
  {
   "cell_type": "code",
   "execution_count": 62,
   "metadata": {},
   "outputs": [],
   "source": [
    "# Посчитаем количество клиентов пользующихся различным количеством продуктов c разбивкой ушло-осталось\n",
    "gr_objects = users.groupby(['objects_group', 'churn'])['userid'].count().to_frame()\n",
    "gr_objects = gr_objects.reset_index()\n",
    "\n",
    "pivot_objects = gr_objects.pivot(\n",
    "index = 'objects_group',\n",
    "columns = 'churn',\n",
    "values = 'userid')"
   ]
  },
  {
   "cell_type": "code",
   "execution_count": 63,
   "metadata": {},
   "outputs": [
    {
     "data": {
      "image/png": "[encoded data removed]",
      "text/plain": [
       "<Figure size 864x360 with 1 Axes>"
      ]
     },
     "metadata": {
      "needs_background": "light"
     },
     "output_type": "display_data"
    }
   ],
   "source": [
    "# Построим график \n",
    "pivot_objects.plot(\n",
    "    kind = 'barh', \n",
    "    title = \"Количество клиентов в категориях по количеству объектов в собственности в разбивке ушло-осталось\", \n",
    "    figsize = (12,5))\n",
    "plt.xlabel('Количество клиентов')\n",
    "plt.ylabel('Количество объектов в собственности')\n",
    "\n",
    "plt.show()"
   ]
  },
  {
   "cell_type": "code",
   "execution_count": 64,
   "metadata": {},
   "outputs": [
    {
     "data": {
      "text/html": [
       "<div>\n",
       "<style scoped>\n",
       "    .dataframe tbody tr th:only-of-type {\n",
       "        vertical-align: middle;\n",
       "    }\n",
       "\n",
       "    .dataframe tbody tr th {\n",
       "        vertical-align: top;\n",
       "    }\n",
       "\n",
       "    .dataframe thead th {\n",
       "        text-align: right;\n",
       "    }\n",
       "</style>\n",
       "<table border=\"1\" class=\"dataframe\">\n",
       "  <thead>\n",
       "    <tr style=\"text-align: right;\">\n",
       "      <th>churn</th>\n",
       "      <th>0</th>\n",
       "      <th>1</th>\n",
       "      <th>%</th>\n",
       "    </tr>\n",
       "    <tr>\n",
       "      <th>objects_group</th>\n",
       "      <th></th>\n",
       "      <th></th>\n",
       "      <th></th>\n",
       "    </tr>\n",
       "  </thead>\n",
       "  <tbody>\n",
       "    <tr>\n",
       "      <th>0-2</th>\n",
       "      <td>1968</td>\n",
       "      <td>528</td>\n",
       "      <td>0.268293</td>\n",
       "    </tr>\n",
       "    <tr>\n",
       "      <th>3 - 5</th>\n",
       "      <td>2385</td>\n",
       "      <td>625</td>\n",
       "      <td>0.262055</td>\n",
       "    </tr>\n",
       "    <tr>\n",
       "      <th>больше 5</th>\n",
       "      <td>3610</td>\n",
       "      <td>884</td>\n",
       "      <td>0.244875</td>\n",
       "    </tr>\n",
       "  </tbody>\n",
       "</table>\n",
       "</div>"
      ],
      "text/plain": [
       "churn             0    1         %\n",
       "objects_group                     \n",
       "0-2            1968  528  0.268293\n",
       "3 - 5          2385  625  0.262055\n",
       "больше 5       3610  884  0.244875"
      ]
     },
     "execution_count": 64,
     "metadata": {},
     "output_type": "execute_result"
    }
   ],
   "source": [
    "# Добавим колонку с процентным изменением\n",
    "pivot_objects['%'] = pivot_objects[1] / pivot_objects[0]\n",
    "pivot_objects.sort_values(by = '%', ascending = False)"
   ]
  },
  {
   "cell_type": "markdown",
   "metadata": {},
   "source": [
    "Процент оттока во всех категориях по количеству объектов в собственности одинаков"
   ]
  },
  {
   "cell_type": "markdown",
   "metadata": {},
   "source": [
    "### Выводы по исследовательскому анализу данных\n",
    "- Больше всего клиентов в Ярославле, в Рыбинске и Ростове примерно поровну. В сумме в Ростове и в Рыбинске клиентов примерно столько же, сколько в Ярославле\n",
    "- Мужчин примерно на 10% больше чем женщин\n",
    "- Клиенты банка делятся на следующие возрастные категории:\n",
    "    - 30-40 (34%)\n",
    "    - 40-50 (26%)\n",
    "    - до 30 (16%)\n",
    "    - 50-65 (11%)\n",
    "    - старше 65 (3%)\n",
    "- Самая большая группа: 30-40 лет\n",
    "- Основная масса клиентов имеет баланс на счете от 100 тыс. рублей до 150 тыс. рублей. До 50 тыс. и больше 200 тыс. - совсем мало\n",
    "- Основная масса клиентов пользуются одним или двумя продуктами (51% и 46% соответственно). Тех кто пользуется тремя или четырмя продуктами совсем мало (3% и меньше 1% соответственно)\n",
    "- Среди наших клиентов большинство (44%) имеет больше 5 объектов в собственности, У 30% от 3-х до 5-ти объектов. У нас явно данные о вип клиентах\n",
    "- В Ростове больше всего процент ушедших клиентов, надо на это обратить внимание. Возможно что-то не так с обслуживанием в Ростовском филиале.\n",
    "- Женщин ушло больше чем мужчин (30% против 20%)\n",
    "- Самая большая группа клиентов: 30-40 лет\n",
    "- Больше всего отток в категориях:\n",
    "\t- 50-65 (там ушло больше чем осталось -113%)\n",
    "\t- 40-50 (-44%)\n",
    "- Всех категорий по заработной плате у нас поровну, примерно по 25%\n",
    "- Во всех зарплатных категориях процент оттока одинаковый\n",
    "- Категория клиентов с балансом больше 200 тыс. самая немногочисленная, но из нее ушел наибольший процент клиентов. Далее клиенты с остатком на счете до 50 тыс., ушло 53%. В оставшихся категориях процент оттока около 30%\n",
    "- Больше всего ушло клиентов из тех кто пользовался 3 и 4 продуктами. В этих категориях клиентов ушло даже больше чем осталось\n",
    "- Процент оттока во всех категориях по количеству объектов в собственности одинаков"
   ]
  },
  {
   "cell_type": "markdown",
   "metadata": {},
   "source": [
    "## 4. Формулирование и проверка гипотез"
   ]
  },
  {
   "cell_type": "markdown",
   "metadata": {},
   "source": [
    "### У тех кто ушел, баланс счета ниже чем у тех кто остался"
   ]
  },
  {
   "cell_type": "markdown",
   "metadata": {},
   "source": [
    "Сформулируем нулевую и альтернативную гипотезы:\n",
    "- Нулевая гипотеза Н0 - Средний баланс счета у ушедших клиентов равен среднему балансу счета у оставшихся\n",
    "- Альтернативная гипотеза Н1 - Средний баланс счета у ушедших и оставшихся клиентов не равны"
   ]
  },
  {
   "cell_type": "code",
   "execution_count": 65,
   "metadata": {},
   "outputs": [],
   "source": [
    "# Сформируем группы только из клиентов с ненулевым балансом\n",
    "gb_churn_group = churn_group[churn_group['balance'].notna()]\n",
    "gb_stay_group = stay_group[stay_group['balance'].notna()]"
   ]
  },
  {
   "cell_type": "code",
   "execution_count": 66,
   "metadata": {},
   "outputs": [
    {
     "name": "stdout",
     "output_type": "stream",
     "text": [
      "p-value: 0.111\n",
      "Относительная разница: -0.010\n"
     ]
    }
   ],
   "source": [
    "# Проверим выборки критерием Манна-Уитни и посчитаем относительную разницу среднего баланса тех кто остался\n",
    "print(\"p-value: {0:.3f}\".format(stats.mannwhitneyu(gb_churn_group['balance'], \n",
    "                                          gb_stay_group['balance'])[1]))\n",
    "\n",
    "\n",
    "print(\"Относительная разница: {0:.3f}\".format(gb_stay_group['balance']\\\n",
    "                                                            .mean()/gb_churn_group['balance'].mean() - 1))"
   ]
  },
  {
   "cell_type": "markdown",
   "metadata": {},
   "source": [
    "P-value > 0.05, Значит нулевую гипотезу о равенстве среднего баланса в группах не удалось опровергнуть.\n",
    "\n",
    "Разница средних балансов в группах меньше 1%."
   ]
  },
  {
   "cell_type": "markdown",
   "metadata": {},
   "source": [
    "### Те кто ушел, пользуются меньшим количеством продуктов, чем те кто остался"
   ]
  },
  {
   "cell_type": "markdown",
   "metadata": {},
   "source": [
    "Сформулируем нулевую и альтернативную гипотезы:\n",
    "- Нулевая гипотеза Н0 - Среднее количество продуктов у ушедших клиентов равно среднему количеству продуктов у оставшихся\n",
    "- Альтернативная гипотеза Н1 - Среднее количество продуктов у ушедших и оставшихся клиентов не равны"
   ]
  },
  {
   "cell_type": "code",
   "execution_count": 67,
   "metadata": {},
   "outputs": [
    {
     "name": "stdout",
     "output_type": "stream",
     "text": [
      "p-value: 0.000\n",
      "Относительная разница: 0.047\n"
     ]
    }
   ],
   "source": [
    "# Проверим выборки критерием Манна-Уитни и посчитаем относительную разницу среднего баланса тех кто остался\n",
    "print(\"p-value: {0:.3f}\".format(stats.mannwhitneyu(churn_group['products'], \n",
    "                                          stay_group['products'])[1]))\n",
    "\n",
    "\n",
    "print(\"Относительная разница: {0:.3f}\".format(stay_group['products'].mean()/churn_group['products'].mean() - 1))"
   ]
  },
  {
   "cell_type": "markdown",
   "metadata": {},
   "source": [
    "P-value < 0.05, Значит нулевая гипотеза о равенстве среднего количества продуктов клиентов в группах не подтверждена.\n",
    "\n",
    "Разница среднего количества активных клиентов в группе оставшихся клиентов составляет 5%."
   ]
  },
  {
   "cell_type": "markdown",
   "metadata": {},
   "source": [
    "### У тех кто ушел не было кредитной карты"
   ]
  },
  {
   "cell_type": "markdown",
   "metadata": {},
   "source": [
    "Сформулируем нулевую и альтернативную гипотезы:\n",
    "- Нулевая гипотеза Н0 - Доля клиентов с кредитными картами среди ушедших клиентов равна доле клиентов с кредитными картами в группе оставшихся\n",
    "- Альтернативная гипотеза Н1 - Доли клиентов с кредитными картами в группах ушедших и оставшихся клиентов не равны"
   ]
  },
  {
   "cell_type": "code",
   "execution_count": 68,
   "metadata": {},
   "outputs": [
    {
     "name": "stdout",
     "output_type": "stream",
     "text": [
      "1424 2037\n"
     ]
    }
   ],
   "source": [
    "# Определим переменные sucesses и trials\n",
    "successes_1 = len(churn_group[churn_group['creditcard'] == 1])\n",
    "trials_1 = len(churn_group)\n",
    "print(successes_1, trials_1)"
   ]
  },
  {
   "cell_type": "code",
   "execution_count": 69,
   "metadata": {},
   "outputs": [
    {
     "name": "stdout",
     "output_type": "stream",
     "text": [
      "5631 7963\n"
     ]
    }
   ],
   "source": [
    "successes_2 = len(stay_group[stay_group['creditcard'] == 1])\n",
    "trials_2 = len(stay_group)\n",
    "print(successes_2, trials_2)"
   ]
  },
  {
   "cell_type": "code",
   "execution_count": 70,
   "metadata": {},
   "outputs": [],
   "source": [
    "# Напишем функцию для проверки гипотез\n",
    "def z_test(successes_1, trials_1, successes_2, trials_2):\n",
    "    # Критический уровень статистической значимости\n",
    "    alpha = .05\n",
    "\n",
    "    #successes = np.array([2450, 2476])\n",
    "    #trials = np.array([2483, 2512])\n",
    "\n",
    "    # Пропорция успехов в А1\n",
    "    p1 = successes_1 / trials_1\n",
    "\n",
    "    # Пропорция успехов в А2\n",
    "    p2 = successes_2 / trials_2\n",
    "\n",
    "    # Пропорция успехов в A1 + A2\n",
    "    p_combined = (successes_1 + successes_2) / (trials_1 + trials_2)\n",
    "\n",
    "    # Разница пропорций\n",
    "    difference = p1 - p2\n",
    "\n",
    "    # Cчитаем статистику в ст.отклонениях стандартного нормального распределения\n",
    "    z_value = difference / cmth.sqrt(p_combined * (1 - p_combined) * (1 / trials_1 + 1 / trials_2))\n",
    "\n",
    "    # Задаем стандартное нормальное распределение (среднее 0, ст.отклонение 1)\n",
    "    distr = stats.norm(0, 1)\n",
    "\n",
    "    p_value = (1 - distr.cdf(abs(z_value))) * 2\n",
    "\n",
    "    if (p_value < alpha):\n",
    "        print('Отвергаем нулевую гипотезу: между долями есть значимая разница, p-value:', p_value)\n",
    "    else:\n",
    "        print('Не получилось отвергнуть нулевую гипотезу, нет оснований считать доли разными, p-value:', p_value)"
   ]
  },
  {
   "cell_type": "code",
   "execution_count": 71,
   "metadata": {},
   "outputs": [
    {
     "name": "stdout",
     "output_type": "stream",
     "text": [
      "Не получилось отвергнуть нулевую гипотезу, нет оснований считать доли разными, p-value: 0.4753653559706539\n"
     ]
    }
   ],
   "source": [
    "# Вызовем функцию проверки гипотезы z-критерием\n",
    "z_test(successes_1, trials_1, successes_2, trials_2)"
   ]
  },
  {
   "cell_type": "markdown",
   "metadata": {},
   "source": [
    "### Те кто остались являются активными клиентами"
   ]
  },
  {
   "cell_type": "markdown",
   "metadata": {},
   "source": [
    "Сформулируем нулевую и альтернативную гипотезы:\n",
    "- Нулевая гипотеза Н0 - Доля активных клиентов среди ушедших клиентов равна доле активных клиентов в группе оставшихся\n",
    "- Альтернативная гипотеза Н1 - Доли активных клиентов в группах ушедших и оставшихся клиентов не равны"
   ]
  },
  {
   "cell_type": "code",
   "execution_count": 72,
   "metadata": {},
   "outputs": [
    {
     "name": "stdout",
     "output_type": "stream",
     "text": [
      "735 2037\n"
     ]
    }
   ],
   "source": [
    "# Определим переменные sucesses и trials\n",
    "successes_1 = len(churn_group[churn_group['loyalty'] == 1])\n",
    "trials_1 = len(churn_group)\n",
    "print(successes_1, trials_1)"
   ]
  },
  {
   "cell_type": "code",
   "execution_count": 73,
   "metadata": {},
   "outputs": [
    {
     "name": "stdout",
     "output_type": "stream",
     "text": [
      "4416 7963\n"
     ]
    }
   ],
   "source": [
    "successes_2 = len(stay_group[stay_group['loyalty'] == 1])\n",
    "trials_2 = len(stay_group)\n",
    "print(successes_2, trials_2)"
   ]
  },
  {
   "cell_type": "code",
   "execution_count": 74,
   "metadata": {},
   "outputs": [
    {
     "name": "stdout",
     "output_type": "stream",
     "text": [
      "Отвергаем нулевую гипотезу: между долями есть значимая разница, p-value: 0.0\n"
     ]
    }
   ],
   "source": [
    "# Вызовем функцию проверки гипотезы z-критерием\n",
    "z_test(successes_1, trials_1, successes_2, trials_2)"
   ]
  },
  {
   "cell_type": "markdown",
   "metadata": {},
   "source": [
    "## Выводы по проверке гипотез\n",
    "- Не удалось опровергнуть гипотезы:\n",
    "    - Средний баланс счета у ушедших клиентов равен среднему балансу счета у оставшихся\n",
    "    - Доля клиентов с кредитными картами среди ушедших клиентов равна доле клиентов с кредитными картами в группе оставшихся\n",
    "\n",
    "\n",
    "- Не удалось подтвердить гипотезы:\n",
    "    - Среднее количество продуктов у ушедших клиентов равно среднему количеству продуктов у оставшихся\n",
    "    - Доля активных клиентов среди ушедших клиентов равна доле активных клиентов в группе оставшихся\n",
    "    \n",
    "Таким образом, признаками, по которым можно прогнозировать отток клиентов могут являться:\n",
    "- количество продуктов\n",
    "- активность"
   ]
  },
  {
   "cell_type": "markdown",
   "metadata": {},
   "source": [
    "## 5. Метрики и бизнес-показатели"
   ]
  },
  {
   "cell_type": "markdown",
   "metadata": {},
   "source": [
    "### Cуммарный баланс на счетах всех клиентов"
   ]
  },
  {
   "cell_type": "code",
   "execution_count": 75,
   "metadata": {},
   "outputs": [
    {
     "name": "stdout",
     "output_type": "stream",
     "text": [
      "Суммарный баланс на счетах всех клиентов: 764858892.8800001 рублей.\n"
     ]
    }
   ],
   "source": [
    "print('Суммарный баланс на счетах всех клиентов:', users['balance'].sum(), 'рублей.')"
   ]
  },
  {
   "cell_type": "code",
   "execution_count": 76,
   "metadata": {},
   "outputs": [
    {
     "name": "stdout",
     "output_type": "stream",
     "text": [
      "Суммарный баланс на счетах ушедших клиентов: 185588094.63 рублей.\n"
     ]
    }
   ],
   "source": [
    "# Можно также посчитать баланс клиентов которые ушли\n",
    "print('Суммарный баланс на счетах ушедших клиентов:', churn_group['balance'].sum(), 'рублей.')"
   ]
  },
  {
   "cell_type": "code",
   "execution_count": 77,
   "metadata": {},
   "outputs": [
    {
     "data": {
      "image/png": "[encoded data removed]",
      "text/plain": [
       "<Figure size 1152x144 with 1 Axes>"
      ]
     },
     "metadata": {
      "needs_background": "light"
     },
     "output_type": "display_data"
    }
   ],
   "source": [
    "# Построим график суммарного остатка на счетах клиентов с учетом оттока\n",
    "plt.figure(figsize = (16, 2))\n",
    "plt.barh(y = 'Баланс', width = users['balance'].sum(), label = 'Всего')\n",
    "plt.barh(y = 'Баланс', width = churn_group['balance'].sum(), label = 'Отток')\n",
    "plt.legend()\n",
    "#plt.axis([pd.to_datetime('2019-08-01'), pd.to_datetime('2019-08-31'), 0.029, 0.037])\n",
    "plt.title('Суммарный баланс на счетах клиентов')\n",
    "plt.xlabel('Млрд рублей ')\n",
    "plt.ylabel('')\n",
    "plt.show()"
   ]
  },
  {
   "cell_type": "markdown",
   "metadata": {},
   "source": [
    "### Процент ушедших клиентов"
   ]
  },
  {
   "cell_type": "code",
   "execution_count": 78,
   "metadata": {},
   "outputs": [
    {
     "name": "stdout",
     "output_type": "stream",
     "text": [
      "Процент ушедших клиентов: 25.58 %\n"
     ]
    }
   ],
   "source": [
    "churn_perc = len(churn_group) / len(stay_group) * 100\n",
    "churn_perc = np.round(churn_perc, 2)\n",
    "print('Процент ушедших клиентов:', churn_perc, '%')"
   ]
  },
  {
   "cell_type": "markdown",
   "metadata": {},
   "source": [
    "### Процент активных клиентов"
   ]
  },
  {
   "cell_type": "code",
   "execution_count": 79,
   "metadata": {},
   "outputs": [
    {
     "name": "stdout",
     "output_type": "stream",
     "text": [
      "Процент активных клиентов: 51.51 %\n"
     ]
    }
   ],
   "source": [
    "active_perc = users['loyalty'].mean() * 100\n",
    "active_perc = np.round(active_perc, 2)\n",
    "print('Процент активных клиентов:', active_perc, '%')"
   ]
  },
  {
   "cell_type": "markdown",
   "metadata": {},
   "source": [
    "### Процент клиентов с кредитной картой"
   ]
  },
  {
   "cell_type": "code",
   "execution_count": 80,
   "metadata": {},
   "outputs": [
    {
     "name": "stdout",
     "output_type": "stream",
     "text": [
      "Процент клиентов c кредитной картой: 70.55 %\n"
     ]
    }
   ],
   "source": [
    "ccard_perc = users['creditcard'].mean() * 100\n",
    "ccard_perc = np.round(ccard_perc, 2)\n",
    "print('Процент клиентов c кредитной картой:', ccard_perc, '%')"
   ]
  },
  {
   "cell_type": "markdown",
   "metadata": {},
   "source": [
    "## Выводы по метрикам и бизнес-показателям\n",
    "\n",
    "- Суммарный баланс на счетах всех клиентов: 1 198 898 892.88 рублей\n",
    "- Суммарный баланс на счетах ушедших клиентов: 245 588 094.63 рублей\n",
    "- Процент ушедших клиентов: 25.58%\n",
    "- Процент активных клиентов: 51.51%\n",
    "- Процент клиентов c кредитной картой: 70.55%"
   ]
  },
  {
   "cell_type": "markdown",
   "metadata": {},
   "source": [
    "## 6. Выводы\n",
    "\n",
    "- Портрет лояльного клиента\n",
    "    - средний возраст - от 30 до 40 лет\n",
    "    - проживает в Ярославле или Рыбинске\n",
    "    - баланс на счете от 50 до 200 тыс. рублей\n",
    "    - пользуется 1 или 2 продуктами\n",
    "    - имеет кредитную карту\n",
    "    - имеет несколько объектов в собственности\n",
    "    - активный клиент\n",
    "\n",
    "\n",
    "- Портрет клиента с риском оттока\n",
    "    - возраст от 55 до 65 лет\n",
    "    - проживает в Ростове Великом\n",
    "    - не активный\n",
    "    - пользуется 3 или 4 продуктами\n",
    "    - не имеет кредитной карты\n",
    "    - баланс на счете меньше 50 или больше 200 тыс. рублей"
   ]
  },
  {
   "cell_type": "markdown",
   "metadata": {},
   "source": [
    "## 7. Рекомендации по удержанию клиентов"
   ]
  },
  {
   "cell_type": "markdown",
   "metadata": {},
   "source": [
    "В результате анализа выявлено, что признаками, которые влияют на отток клиентов из банка являются:\n",
    "- активность\n",
    "- пол (женщин ушло больше чем мужчин)\n",
    "- возрастная категория (очень большой отток в сегментах от 40 до 65 лет)\n",
    "- город (в Ростове Великом отток больше чем в других городах)\n",
    "- число продуктов (клиенты с большим числом продуктов склонны к оттоку)\n",
    "\n",
    "В связи с этим, для удержания клиентов рекомендуется:\n",
    "- повышать активность клиентов\n",
    "    - чаще пользоваться кредитной картой, например, получая cashback\n",
    "    - чаще совершать операции по счетам и вкладам\n",
    "    - оформлять дополнительные карты на членов семьи\n",
    "- предложить тематические продукты с привлекательными условиями для женщин\n",
    "- проанализировать чем недовольны клиенты из города Ростов Великий\n",
    "- предложить особые продукты для клиентов 40-65 лет\n",
    "- сделать опрос клиентов, которые пользуются 3-4 продуктами банка, чем они недовольны"
   ]
  },
  {
   "cell_type": "code",
   "execution_count": null,
   "metadata": {},
   "outputs": [],
   "source": []
  }
 ],
 "metadata": {
  "kernelspec": {
   "display_name": "Python 3",
   "language": "python",
   "name": "python3"
  },
  "language_info": {
   "codemirror_mode": {
    "name": "ipython",
    "version": 3
   },
   "file_extension": ".py",
   "mimetype": "text/x-python",
   "name": "python",
   "nbconvert_exporter": "python",
   "pygments_lexer": "ipython3",
   "version": "3.7.7"
  }
 },
 "nbformat": 4,
 "nbformat_minor": 4
}
